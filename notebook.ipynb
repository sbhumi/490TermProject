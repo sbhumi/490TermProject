{
  "nbformat": 4,
  "nbformat_minor": 0,
  "metadata": {
    "colab": {
      "name": "Untitled0.ipynb",
      "provenance": [],
      "collapsed_sections": []
    },
    "kernelspec": {
      "name": "python3",
      "display_name": "Python 3"
    },
    "language_info": {
      "name": "python"
    }
  },
  "cells": [
    {
      "cell_type": "code",
      "source": [
        "from tensorflow import keras\n",
        "import numpy as np\n",
        "import tensorflow as tf\n",
        "import matplotlib.pyplot as plt\n",
        "import os\n",
        "import scipy\n",
        "from PIL import Image\n",
        "from matplotlib import image\n",
        "from matplotlib import pyplot\n",
        "from google.colab import drive\n",
        "drive.mount('/content/drive')"
      ],
      "metadata": {
        "id": "tDBRrVFoDLXh",
        "colab": {
          "base_uri": "https://localhost:8080/"
        },
        "outputId": "2ffbe62e-8438-47fa-b808-497cf7b69f65"
      },
      "execution_count": null,
      "outputs": [
        {
          "output_type": "stream",
          "name": "stdout",
          "text": [
            "Drive already mounted at /content/drive; to attempt to forcibly remount, call drive.mount(\"/content/drive\", force_remount=True).\n"
          ]
        }
      ]
    },
    {
      "cell_type": "code",
      "execution_count": null,
      "metadata": {
        "id": "KUL_rKGlDBLX",
        "colab": {
          "base_uri": "https://localhost:8080/"
        },
        "outputId": "56fd837e-a25e-4ece-91be-5b1849bf9b21"
      },
      "outputs": [
        {
          "output_type": "stream",
          "name": "stdout",
          "text": [
            "No Signs of Dementia\n"
          ]
        }
      ],
      "source": [
        "model = keras.models.load_model(\"/content/drive/MyDrive/Kaggle Alzheimer's Dataset/new_model.h5\")\n",
        "\n",
        "def universal_preprocess(img):\n",
        "    if len(img.shape) != 3:\n",
        "        \n",
        "        return resize_img_incorrect(img).reshape(1,128,128,1)\n",
        "\n",
        "    elif(img.shape[2] != 1):\n",
        "       \n",
        "        img = rgb2gray(img)\n",
        "        return resize_img_incorrect(img).reshape(1,128, 128, 1)\n",
        "\n",
        "    else:\n",
        "        \n",
        "        return resize_img_correct(img).reshape(1,128,128,1)\n",
        "\n",
        "\n",
        "def resize_img_incorrect(img):\n",
        "\n",
        "\n",
        "    desired_width = 128\n",
        "    desired_height = 128\n",
        "    # Get current depth\n",
        "    current_width = img.shape[0]\n",
        "    current_height = img.shape[1]\n",
        "    # Compute depth factor\n",
        "\n",
        "    width = current_width / desired_width\n",
        "    height = current_height / desired_height\n",
        "    width_factor = 1 / width\n",
        "    height_factor = 1 / height\n",
        "\n",
        "    img = ndimage.zoom(img, (width_factor, height_factor), order=1)\n",
        "    return img\n",
        "\n",
        "\n",
        "def resize_img_correct(img):\n",
        "\n",
        "\n",
        "    desired_width = 128\n",
        "    desired_height = 128\n",
        "    # Get current depth\n",
        "    current_width = img.shape[0]\n",
        "    current_height = img.shape[1]\n",
        "    # Compute depth factor\n",
        "\n",
        "    width = current_width / desired_width\n",
        "    height = current_height / desired_height\n",
        "    width_factor = 1 / width\n",
        "    height_factor = 1 / height\n",
        "\n",
        "    img = ndimage.zoom(img, (width_factor, height_factor, 1), order=1)\n",
        "    return img\n",
        "\n",
        "\n",
        "\n",
        "def rgb2gray(rgb):\n",
        "\n",
        "    r, g, b = rgb[:,:,0], rgb[:,:,1], rgb[:,:,2]\n",
        "    gray = 0.2989 * r + 0.5870 * g + 0.1140 * b\n",
        "\n",
        "    return gray.reshape(gray.shape[0], gray.shape[1])\n",
        "\n",
        "from scipy import ndimage\n",
        "import imageio\n",
        "\n",
        "\n",
        "def full_stack(img):\n",
        "    img = np.array(Image.open(img))\n",
        "    img = universal_preprocess(img)\n",
        "    if(model.predict(img) > 0.5):\n",
        "        return \"Signs of Dementia\"\n",
        "    else:\n",
        "        return \"No Signs of Dementia\"\n",
        "\n",
        "print(full_stack('/content/drive/MyDrive/thing1.jpg'))"
      ]
    },
    {
      "cell_type": "code",
      "source": [
        ""
      ],
      "metadata": {
        "id": "3idlAuxYM_3d"
      },
      "execution_count": null,
      "outputs": []
    }
  ]
}