{
  "nbformat": 4,
  "nbformat_minor": 0,
  "metadata": {
    "colab": {
      "name": "Transfer Learning Kaggle to NIFTI",
      "provenance": [],
      "collapsed_sections": [],
      "machine_shape": "hm",
      "authorship_tag": "ABX9TyMawXpr3JEhiOD8nQRT1m6i",
      "include_colab_link": true
    },
    "kernelspec": {
      "name": "python3",
      "display_name": "Python 3"
    },
    "language_info": {
      "name": "python"
    },
    "accelerator": "GPU"
  },
  "cells": [
    {
      "cell_type": "markdown",
      "metadata": {
        "id": "view-in-github",
        "colab_type": "text"
      },
      "source": [
        "<a href=\"https://colab.research.google.com/github/sbhumi/490TermProject/blob/main/Transfer_Learning_Kaggle_to_OASIS3.ipynb\" target=\"_parent\"><img src=\"https://colab.research.google.com/assets/colab-badge.svg\" alt=\"Open In Colab\"/></a>"
      ]
    },
    {
      "cell_type": "code",
      "execution_count": null,
      "metadata": {
        "colab": {
          "base_uri": "https://localhost:8080/"
        },
        "id": "0tA77VRhfrvz",
        "outputId": "5004c79e-3eca-41fc-d6d3-0441f1e7df0c"
      },
      "outputs": [
        {
          "output_type": "stream",
          "name": "stdout",
          "text": [
            "Requirement already satisfied: nibabel in /usr/local/lib/python3.7/dist-packages (3.0.2)\n",
            "Requirement already satisfied: numpy>=1.12 in /usr/local/lib/python3.7/dist-packages (from nibabel) (1.21.6)\n",
            "Drive already mounted at /content/drive; to attempt to forcibly remount, call drive.mount(\"/content/drive\", force_remount=True).\n"
          ]
        }
      ],
      "source": [
        "# Installing nibabel\n",
        "!pip install nibabel\n",
        "\n",
        "# Importing\n",
        "import numpy as np\n",
        "import tensorflow as tf\n",
        "from tensorflow import keras\n",
        "from keras import layers, Sequential\n",
        "from keras.layers import *\n",
        "import matplotlib.pyplot as plt\n",
        "from matplotlib import image\n",
        "import os\n",
        "import nibabel as nib\n",
        "import pandas as pd\n",
        "import scipy\n",
        "from scipy import ndimage\n",
        "from PIL import Image\n",
        "from sklearn.model_selection import train_test_split\n",
        "from google.colab import drive\n",
        "drive.mount('/content/drive')\n",
        "from keras import Model \n",
        "from tensorflow.keras.optimizers import Adam\n",
        "from keras import callbacks"
      ]
    },
    {
      "cell_type": "markdown",
      "source": [
        "# Importing old model for transfer learning"
      ],
      "metadata": {
        "id": "txeWi7LauGHH"
      }
    },
    {
      "cell_type": "code",
      "source": [
        "T1000 = keras.models.load_model('/content/drive/MyDrive/Kaggle Alzheimer\\'s Dataset/new_model.h5')"
      ],
      "metadata": {
        "id": "MljKGxdbfyzF"
      },
      "execution_count": null,
      "outputs": []
    },
    {
      "cell_type": "code",
      "source": [
        "T1000.summary()"
      ],
      "metadata": {
        "colab": {
          "base_uri": "https://localhost:8080/"
        },
        "id": "N46R-VMWgYIO",
        "outputId": "9b0b39ca-92f8-4889-ebf7-309069eaa4ed"
      },
      "execution_count": null,
      "outputs": [
        {
          "output_type": "stream",
          "name": "stdout",
          "text": [
            "Model: \"model\"\n",
            "_________________________________________________________________\n",
            " Layer (type)                Output Shape              Param #   \n",
            "=================================================================\n",
            " input_1 (InputLayer)        [(None, 128, 128, 1)]     0         \n",
            "                                                                 \n",
            " conv2d_22 (Conv2D)          (None, 126, 126, 64)      640       \n",
            "                                                                 \n",
            " max_pooling2d_22 (MaxPoolin  (None, 63, 63, 64)       0         \n",
            " g2D)                                                            \n",
            "                                                                 \n",
            " conv2d_23 (Conv2D)          (None, 61, 61, 128)       73856     \n",
            "                                                                 \n",
            " max_pooling2d_23 (MaxPoolin  (None, 30, 30, 128)      0         \n",
            " g2D)                                                            \n",
            "                                                                 \n",
            " conv2d_24 (Conv2D)          (None, 28, 28, 256)       295168    \n",
            "                                                                 \n",
            " max_pooling2d_24 (MaxPoolin  (None, 14, 14, 256)      0         \n",
            " g2D)                                                            \n",
            "                                                                 \n",
            " flatten_6 (Flatten)         (None, 50176)             0         \n",
            "                                                                 \n",
            " dense_6 (Dense)             (None, 128)               6422656   \n",
            "                                                                 \n",
            " dense_7 (Dense)             (None, 1)                 129       \n",
            "                                                                 \n",
            "=================================================================\n",
            "Total params: 6,792,449\n",
            "Trainable params: 6,792,449\n",
            "Non-trainable params: 0\n",
            "_________________________________________________________________\n"
          ]
        }
      ]
    },
    {
      "cell_type": "markdown",
      "source": [
        "# Freezing Old Model"
      ],
      "metadata": {
        "id": "3M1OPnOPuLME"
      }
    },
    {
      "cell_type": "code",
      "source": [
        "T1000.trainable = False"
      ],
      "metadata": {
        "id": "KyvEJ9fsgg6U"
      },
      "execution_count": null,
      "outputs": []
    },
    {
      "cell_type": "markdown",
      "source": [
        "# Slicing Old Model after the Flattening layer and adding a new Dense layer to be trained on the new data"
      ],
      "metadata": {
        "id": "A6_gLrpTuOD8"
      }
    },
    {
      "cell_type": "code",
      "source": [
        "newLayer = Dense(128, activation = 'relu')(T1000.layers[7].output) #new hidden layer\n",
        "newLayer = Dense(1, activation = 'sigmoid')(newLayer) #new output layer\n",
        "T5000 = Model(T1000.input, newLayer)\n",
        "T5000.compile(optimizer = Adam(), loss = 'binary_crossentropy', metrics = ['acc'])\n",
        "T5000.summary()"
      ],
      "metadata": {
        "colab": {
          "base_uri": "https://localhost:8080/"
        },
        "id": "kqLbtUt3hK2Z",
        "outputId": "4c6c2444-8c00-4d8e-d16b-238d9ccb7ddd"
      },
      "execution_count": null,
      "outputs": [
        {
          "output_type": "stream",
          "name": "stdout",
          "text": [
            "Model: \"model\"\n",
            "_________________________________________________________________\n",
            " Layer (type)                Output Shape              Param #   \n",
            "=================================================================\n",
            " input_1 (InputLayer)        [(None, 128, 128, 1)]     0         \n",
            "                                                                 \n",
            " conv2d_22 (Conv2D)          (None, 126, 126, 64)      640       \n",
            "                                                                 \n",
            " max_pooling2d_22 (MaxPoolin  (None, 63, 63, 64)       0         \n",
            " g2D)                                                            \n",
            "                                                                 \n",
            " conv2d_23 (Conv2D)          (None, 61, 61, 128)       73856     \n",
            "                                                                 \n",
            " max_pooling2d_23 (MaxPoolin  (None, 30, 30, 128)      0         \n",
            " g2D)                                                            \n",
            "                                                                 \n",
            " conv2d_24 (Conv2D)          (None, 28, 28, 256)       295168    \n",
            "                                                                 \n",
            " max_pooling2d_24 (MaxPoolin  (None, 14, 14, 256)      0         \n",
            " g2D)                                                            \n",
            "                                                                 \n",
            " flatten_6 (Flatten)         (None, 50176)             0         \n",
            "                                                                 \n",
            " dense (Dense)               (None, 128)               6422656   \n",
            "                                                                 \n",
            " dense_1 (Dense)             (None, 1)                 129       \n",
            "                                                                 \n",
            "=================================================================\n",
            "Total params: 6,792,449\n",
            "Trainable params: 6,422,785\n",
            "Non-trainable params: 369,664\n",
            "_________________________________________________________________\n"
          ]
        }
      ]
    },
    {
      "cell_type": "code",
      "source": [
        "# making sure everything is frozen correctly\n",
        "for layers in T5000.layers:\n",
        "    print(layers.trainable)"
      ],
      "metadata": {
        "colab": {
          "base_uri": "https://localhost:8080/"
        },
        "id": "p17g5U7hhWjx",
        "outputId": "9417d0de-9946-4c54-e21f-9cc67ab16df5"
      },
      "execution_count": null,
      "outputs": [
        {
          "output_type": "stream",
          "name": "stdout",
          "text": [
            "False\n",
            "False\n",
            "False\n",
            "False\n",
            "False\n",
            "False\n",
            "False\n",
            "False\n",
            "True\n",
            "True\n"
          ]
        }
      ]
    },
    {
      "cell_type": "markdown",
      "source": [
        "# Reading in the new dataset positive classes"
      ],
      "metadata": {
        "id": "TBwQC7bSvRdf"
      }
    },
    {
      "cell_type": "code",
      "source": [
        "!unzip '/content/drive/MyDrive/Alzheimers Model/adSlices.npz' -d '/content/adSlices.npy'"
      ],
      "metadata": {
        "colab": {
          "base_uri": "https://localhost:8080/"
        },
        "id": "dEjbEBO9vocL",
        "outputId": "08e557c4-d9b4-49f4-810e-3d37ffc23bfd"
      },
      "execution_count": null,
      "outputs": [
        {
          "output_type": "stream",
          "name": "stdout",
          "text": [
            "Archive:  /content/drive/MyDrive/Alzheimers Model/adSlices.npz\n",
            "  inflating: /content/adSlices.npy/arr_0.npy  \n"
          ]
        }
      ]
    },
    {
      "cell_type": "markdown",
      "source": [
        "# Creating an array of all 1's to indicate positive diagnosis"
      ],
      "metadata": {
        "id": "h1OwIZyxxXsF"
      }
    },
    {
      "cell_type": "code",
      "source": [
        "aPositive = np.load('/content/adSlices.npy/arr_0.npy') # array of positive patients scans\n",
        "aPositiveLabels = np.ones((aPositive.shape[0],)) # creating lables for positive patients"
      ],
      "metadata": {
        "id": "l2fio9cSwqW3"
      },
      "execution_count": null,
      "outputs": []
    },
    {
      "cell_type": "code",
      "source": [
        "print(aPositive.shape)\n",
        "print(aPositiveLabels.shape)"
      ],
      "metadata": {
        "colab": {
          "base_uri": "https://localhost:8080/"
        },
        "id": "oY-RhZ8IxBdR",
        "outputId": "44b93d21-7caa-4aa9-8091-7fcb5eca895b"
      },
      "execution_count": null,
      "outputs": [
        {
          "output_type": "stream",
          "name": "stdout",
          "text": [
            "(170, 128, 128, 1)\n",
            "(170,)\n"
          ]
        }
      ]
    },
    {
      "cell_type": "markdown",
      "source": [
        "# Reading in the new dataset negative classes"
      ],
      "metadata": {
        "id": "fXjsmfljvebm"
      }
    },
    {
      "cell_type": "code",
      "source": [
        "!unzip '/content/drive/MyDrive/Alzheimers Model/nonSlices.npz' -d '/content/adNegative.npy'"
      ],
      "metadata": {
        "colab": {
          "base_uri": "https://localhost:8080/"
        },
        "id": "mzC_6jZo3OUI",
        "outputId": "c9eeef1e-08ac-4e17-f691-7daeeda9f939"
      },
      "execution_count": null,
      "outputs": [
        {
          "output_type": "stream",
          "name": "stdout",
          "text": [
            "Archive:  /content/drive/MyDrive/Alzheimers Model/nonSlices.npz\n",
            "  inflating: /content/adNegative.npy/arr_0.npy  \n"
          ]
        }
      ]
    },
    {
      "cell_type": "markdown",
      "source": [
        "# Creating an array of all 0's to indicate a negative diagnosis"
      ],
      "metadata": {
        "id": "YHSa_Qflxdw3"
      }
    },
    {
      "cell_type": "code",
      "source": [
        "aNegative = np.load('/content/adNegative.npy/arr_0.npy') # array of negative patients' scans\n",
        "aNegativeLabels = np.zeros((aNegative.shape[0],)) # creating labels for negative patients"
      ],
      "metadata": {
        "id": "4_W4p8Nf3P1b"
      },
      "execution_count": null,
      "outputs": []
    },
    {
      "cell_type": "code",
      "source": [
        "print(aNegative.shape)\n",
        "print(aNegativeLabels.shape)"
      ],
      "metadata": {
        "colab": {
          "base_uri": "https://localhost:8080/"
        },
        "id": "BmwBEFZP3W3Y",
        "outputId": "e94e2941-d2c3-4df8-eef3-698864b45886"
      },
      "execution_count": null,
      "outputs": [
        {
          "output_type": "stream",
          "name": "stdout",
          "text": [
            "(171, 128, 128, 1)\n",
            "(171,)\n"
          ]
        }
      ]
    },
    {
      "cell_type": "markdown",
      "source": [
        "# Combining the Positive and Negative datasets"
      ],
      "metadata": {
        "id": "VfHoxOc1vpJE"
      }
    },
    {
      "cell_type": "code",
      "source": [
        "data = np.concatenate([aNegative, aPositive], axis = 0)\n",
        "targets = np.concatenate([aNegativeLabels, aPositiveLabels], axis = 0)\n",
        "print(data.shape)\n",
        "print(targets.shape)"
      ],
      "metadata": {
        "colab": {
          "base_uri": "https://localhost:8080/"
        },
        "id": "HEXLHiaZ3cL0",
        "outputId": "072761d4-8c62-49ca-f8bc-59f011ea86ae"
      },
      "execution_count": null,
      "outputs": [
        {
          "output_type": "stream",
          "name": "stdout",
          "text": [
            "(341, 128, 128, 1)\n",
            "(341,)\n"
          ]
        }
      ]
    },
    {
      "cell_type": "markdown",
      "source": [
        "# defining function to shuffle the dataset and labels together"
      ],
      "metadata": {
        "id": "lgEcZ9q7v4tH"
      }
    },
    {
      "cell_type": "code",
      "source": [
        "def unison_shuffled_copies(a, b):\n",
        "    assert len(a) == len(b)\n",
        "    p = np.random.permutation(len(a))\n",
        "    return a[p], b[p]"
      ],
      "metadata": {
        "id": "bpMQSaktxDeb"
      },
      "execution_count": null,
      "outputs": []
    },
    {
      "cell_type": "markdown",
      "source": [
        "# Shuffling the dataset"
      ],
      "metadata": {
        "id": "5E0oZi_8v6Vn"
      }
    },
    {
      "cell_type": "code",
      "source": [
        "data, targets = unison_shuffled_copies(data, targets)"
      ],
      "metadata": {
        "id": "ydcbHLuOxFa9"
      },
      "execution_count": null,
      "outputs": []
    },
    {
      "cell_type": "markdown",
      "source": [
        "# Splitting the validation data from the training data"
      ],
      "metadata": {
        "id": "3p3_v36Nv8dL"
      }
    },
    {
      "cell_type": "code",
      "source": [
        "data_validate = data[-30:]\n",
        "targets_validate = targets[-30:]\n",
        "data = data[:-30]\n",
        "targets = targets[:-30]"
      ],
      "metadata": {
        "id": "wUfRanz04lNb"
      },
      "execution_count": null,
      "outputs": []
    },
    {
      "cell_type": "code",
      "source": [
        "plt.imshow(data[0].reshape(128,128))\n",
        "plt.show()\n",
        "plt.imshow(data[1].reshape(128,128))\n",
        "plt.show()"
      ],
      "metadata": {
        "colab": {
          "base_uri": "https://localhost:8080/",
          "height": 519
        },
        "id": "Y8OwSxeM7JWz",
        "outputId": "2c057787-4b73-4b71-e76e-7ea21b845e6c"
      },
      "execution_count": null,
      "outputs": [
        {
          "output_type": "display_data",
          "data": {
            "text/plain": [
              "<Figure size 432x288 with 1 Axes>"
            ],
            "image/png": "[encoded data removed]"
          },
          "metadata": {
            "needs_background": "light"
          }
        },
        {
          "output_type": "display_data",
          "data": {
            "text/plain": [
              "<Figure size 432x288 with 1 Axes>"
            ],
            "image/png": "[encoded data removed]"
          },
          "metadata": {
            "needs_background": "light"
          }
        }
      ]
    },
    {
      "cell_type": "markdown",
      "source": [
        "# Defining Callbacks"
      ],
      "metadata": {
        "id": "vhhoxPs4wG1W"
      }
    },
    {
      "cell_type": "code",
      "source": [
        "stop = callbacks.EarlyStopping(patience = 5, restore_best_weights= True)\n",
        "rlr = callbacks.ReduceLROnPlateau(patience = 3)\n",
        "check = callbacks.ModelCheckpoint('/content/drive/MyDrive/Alzheimers Model/checkpointT5000.h5')"
      ],
      "metadata": {
        "id": "5OVFyH2C6Bzk"
      },
      "execution_count": null,
      "outputs": []
    },
    {
      "cell_type": "markdown",
      "source": [
        "# Training the model on the new data with a validation split of .10 batch size of 10 (because the new dataset is so small, IE perfect to use transfer learning on) "
      ],
      "metadata": {
        "id": "kXCgPjbzwJKw"
      }
    },
    {
      "cell_type": "code",
      "source": [
        "history1 = T5000.fit(data, targets, validation_split= .10, epochs = 20, batch_size = 10 ,callbacks= [stop, rlr, check])"
      ],
      "metadata": {
        "colab": {
          "base_uri": "https://localhost:8080/"
        },
        "id": "yg8pqkTx5AEe",
        "outputId": "150f3137-a273-4b7a-8153-08e96fc63642"
      },
      "execution_count": null,
      "outputs": [
        {
          "output_type": "stream",
          "name": "stdout",
          "text": [
            "Epoch 1/20\n",
            "28/28 [==============================] - 1s 40ms/step - loss: 1.6710e-17 - acc: 1.0000 - val_loss: 1.4577e-24 - val_acc: 1.0000 - lr: 1.0000e-06\n",
            "Epoch 2/20\n",
            "28/28 [==============================] - 0s 14ms/step - loss: 1.6710e-17 - acc: 1.0000 - val_loss: 1.4577e-24 - val_acc: 1.0000 - lr: 1.0000e-06\n",
            "Epoch 3/20\n",
            "28/28 [==============================] - 0s 13ms/step - loss: 1.6710e-17 - acc: 1.0000 - val_loss: 1.4577e-24 - val_acc: 1.0000 - lr: 1.0000e-06\n",
            "Epoch 4/20\n",
            "28/28 [==============================] - 0s 15ms/step - loss: 1.6710e-17 - acc: 1.0000 - val_loss: 1.4577e-24 - val_acc: 1.0000 - lr: 1.0000e-06\n",
            "Epoch 5/20\n",
            "28/28 [==============================] - 0s 14ms/step - loss: 1.6710e-17 - acc: 1.0000 - val_loss: 1.4577e-24 - val_acc: 1.0000 - lr: 1.0000e-07\n",
            "Epoch 6/20\n",
            "28/28 [==============================] - 0s 13ms/step - loss: 1.6710e-17 - acc: 1.0000 - val_loss: 1.4577e-24 - val_acc: 1.0000 - lr: 1.0000e-07\n"
          ]
        }
      ]
    },
    {
      "cell_type": "markdown",
      "source": [
        "# Testing on the validation data"
      ],
      "metadata": {
        "id": "_aasb4rbwkH5"
      }
    },
    {
      "cell_type": "code",
      "source": [
        "T5000.evaluate(data_validate, targets_validate)"
      ],
      "metadata": {
        "colab": {
          "base_uri": "https://localhost:8080/"
        },
        "id": "5k3GyNg_633D",
        "outputId": "62c5b26c-5af0-4492-f4c1-dd6b9c28c411"
      },
      "execution_count": null,
      "outputs": [
        {
          "output_type": "stream",
          "name": "stdout",
          "text": [
            "1/1 [==============================] - 0s 73ms/step - loss: 7.4826e-15 - acc: 1.0000\n"
          ]
        },
        {
          "output_type": "execute_result",
          "data": {
            "text/plain": [
              "[7.482604352749764e-15, 1.0]"
            ]
          },
          "metadata": {},
          "execution_count": 41
        }
      ]
    },
    {
      "cell_type": "markdown",
      "source": [
        "# Reading in a little more validation data for extra assurance of correctness"
      ],
      "metadata": {
        "id": "U6KTAi-CwqKf"
      }
    },
    {
      "cell_type": "code",
      "source": [
        "non = np.load('/content/drive/MyDrive/Alzheimers Model/nonValidation.npy')\n",
        "ada = np.load('/content/drive/MyDrive/Alzheimers Model/adValidation.npy')"
      ],
      "metadata": {
        "id": "UoQPdTIN7sJk"
      },
      "execution_count": null,
      "outputs": []
    },
    {
      "cell_type": "code",
      "source": [
        "ada.shape"
      ],
      "metadata": {
        "colab": {
          "base_uri": "https://localhost:8080/"
        },
        "id": "LdZ7nT5oB2iN",
        "outputId": "ec0e4aaa-7532-4061-ecb6-acbcf33d99fe"
      },
      "execution_count": null,
      "outputs": [
        {
          "output_type": "execute_result",
          "data": {
            "text/plain": [
              "(20, 128, 128, 1)"
            ]
          },
          "metadata": {},
          "execution_count": 79
        }
      ]
    },
    {
      "cell_type": "code",
      "source": [
        "z = T5000.predict(non)"
      ],
      "metadata": {
        "id": "dP4wdt1yAjNX"
      },
      "execution_count": null,
      "outputs": []
    },
    {
      "cell_type": "markdown",
      "source": [
        "# This dataset was of all positive diagnosis and the predictions all classify these images as positive P = 1"
      ],
      "metadata": {
        "id": "KWjHkYePxncN"
      }
    },
    {
      "cell_type": "code",
      "source": [
        "z"
      ],
      "metadata": {
        "colab": {
          "base_uri": "https://localhost:8080/"
        },
        "id": "0vApZY57CrN8",
        "outputId": "bcdb8eb8-63f8-42ea-84db-499154c9a0b2"
      },
      "execution_count": null,
      "outputs": [
        {
          "output_type": "execute_result",
          "data": {
            "text/plain": [
              "array([[1.0000000e+00],\n",
              "       [9.9979192e-01],\n",
              "       [5.8000383e-05],\n",
              "       [1.6463010e-12],\n",
              "       [6.8966739e-20],\n",
              "       [3.6087347e-27],\n",
              "       [5.3501696e-29],\n",
              "       [0.0000000e+00],\n",
              "       [0.0000000e+00],\n",
              "       [0.0000000e+00],\n",
              "       [0.0000000e+00],\n",
              "       [0.0000000e+00],\n",
              "       [0.0000000e+00],\n",
              "       [5.9605318e-38],\n",
              "       [6.4397181e-36],\n",
              "       [2.7171126e-36],\n",
              "       [2.8823692e-38],\n",
              "       [5.1752995e-24],\n",
              "       [9.0262684e-28],\n",
              "       [2.6156454e-35]], dtype=float32)"
            ]
          },
          "metadata": {},
          "execution_count": 82
        }
      ]
    },
    {
      "cell_type": "markdown",
      "source": [
        "# This was a dataset consisting of all negative results, as you can see it classified everything as negative: P(predicton) = 0, (save the first 3 images)."
      ],
      "metadata": {
        "id": "L3V6iQm_xCuU"
      }
    },
    {
      "cell_type": "code",
      "source": [
        "q = T5000.predict(ada)\n",
        "q.round(5)"
      ],
      "metadata": {
        "colab": {
          "base_uri": "https://localhost:8080/"
        },
        "id": "l1RQm4GmAoYj",
        "outputId": "96d7ea4f-0f08-471b-a843-a86000df87e5"
      },
      "execution_count": null,
      "outputs": [
        {
          "output_type": "execute_result",
          "data": {
            "text/plain": [
              "array([[1.],\n",
              "       [1.],\n",
              "       [1.],\n",
              "       [1.],\n",
              "       [1.],\n",
              "       [1.],\n",
              "       [1.],\n",
              "       [1.],\n",
              "       [1.],\n",
              "       [1.],\n",
              "       [1.],\n",
              "       [1.],\n",
              "       [1.],\n",
              "       [1.],\n",
              "       [1.],\n",
              "       [1.],\n",
              "       [1.],\n",
              "       [1.],\n",
              "       [1.],\n",
              "       [1.]], dtype=float32)"
            ]
          },
          "metadata": {},
          "execution_count": 84
        }
      ]
    },
    {
      "cell_type": "markdown",
      "source": [
        "# Saving Model "
      ],
      "metadata": {
        "id": "shD52Q0GxxVi"
      }
    },
    {
      "cell_type": "code",
      "source": [
        "T5000.save('/content/drive/MyDrive/Alzheimers Model/T5000.h5')"
      ],
      "metadata": {
        "id": "MtfzOKsqFB-O"
      },
      "execution_count": null,
      "outputs": []
    }
  ]
}